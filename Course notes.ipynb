{
 "cells": [
  {
   "attachments": {},
   "cell_type": "markdown",
   "metadata": {},
   "source": [
    "# Data Factory Fundamentals\n",
    "\n",
    "It's a web tool to manage complete complex ETL projects.\n",
    "It also includes integration services.\n",
    "\n",
    "We can use it to process a large volume of data.\n",
    "\n",
    "We can use it to retrieve data from local DB's.\n",
    "\n",
    "Data Factory will participate in all the ETL process bringing the data from a raw state to a curated state. For this state changes Data Factory uses Databricks.\n",
    "\n",
    "Finally we have to store the enriched data in a centralized data warehouse, it is also managed by Data Factory.\n",
    "\n",
    "## Data storage\n",
    "\n",
    "It's a centralized data storage that can store structured, semi-structured, non-structured and realtime data.\n",
    "\n",
    "Azure Data factory is used as an Orchestrator for the complete process of the data\n",
    "\n",
    "## Data lake\n",
    "\n",
    "Is a data storage for raw data.\n",
    "\n",
    "## Databricks \n",
    "\n",
    "Service to compute, it will help us to manage the data."
   ]
  },
  {
   "attachments": {},
   "cell_type": "markdown",
   "metadata": {},
   "source": [
    "# Data Engineers\n",
    "\n",
    "Responsible to organize the data so that others can easily access it.\n",
    "\n",
    "They have to work with different people/roles.\n",
    "\n",
    "Main responsibilities:\n",
    "* Get requirements of the data\n",
    "* Maintain meta data\n",
    "* Ensure security for the data\n",
    "* Data storage\n",
    "* Data processing\n",
    "* ETL tools"
   ]
  }
 ],
 "metadata": {
  "language_info": {
   "name": "python"
  },
  "orig_nbformat": 4
 },
 "nbformat": 4,
 "nbformat_minor": 2
}
